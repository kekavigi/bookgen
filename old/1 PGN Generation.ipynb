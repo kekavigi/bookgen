{
 "cells": [
  {
   "cell_type": "code",
   "execution_count": null,
   "id": "9d6633d0-12d6-4622-8532-45ce289fccda",
   "metadata": {},
   "outputs": [],
   "source": [
    "from chess import parse_square\n",
    "from chess.pgn import Game, FileExporter\n",
    "from chess.engine import SimpleEngine, Limit\n",
    "from chess.svg import Arrow"
   ]
  },
  {
   "cell_type": "code",
   "execution_count": null,
   "id": "111a0837-d6e0-4081-87c1-5d7ff0885840",
   "metadata": {},
   "outputs": [],
   "source": [
    "from datetime import datetime\n",
    "from tqdm import tqdm"
   ]
  },
  {
   "cell_type": "code",
   "execution_count": null,
   "id": "8f07e834-8862-441c-a47d-e60caebc6369",
   "metadata": {},
   "outputs": [],
   "source": [
    "SF_DIR = 'stockfish_21091218_x64_modern/stockfish_21091218_x64_modern'\n",
    "\n",
    "# Game opening we'll analyse\n",
    "BOARD_SETUP = 'rnbqkb1r/ppp1pppp/5n2/3p4/3P1B2/2N5/PPP1PPPP/R2QKBNR b KQkq - 2 3'\n",
    "\n",
    "# engine settings\n",
    "MULTIPV = 3\n",
    "ENGINE_DEPTH = 15\n",
    "MOVE_DEPTH = 6"
   ]
  },
  {
   "cell_type": "code",
   "execution_count": null,
   "id": "8be37994-6b0d-4d94-88d7-85eb13a81ca4",
   "metadata": {},
   "outputs": [],
   "source": [
    "# init\n",
    "engine = SimpleEngine.popen_uci(SF_DIR)\n",
    "engine.configure({'Hash': 512, 'Threads':2, 'Use NNUE':True,\n",
    "                  'EvalFile':'stockfish_21091218_x64_modern/nn-6762d36ad265.nnue'})\n",
    "\n",
    "limitation = Limit(depth=ENGINE_DEPTH)\n",
    "\n",
    "game = Game()\n",
    "game.headers['Event'] = 'Book Generation'\n",
    "game.headers['Date']  = str(datetime.now())\n",
    "game.headers['White'] = 'Best Reply'\n",
    "game.headers['Black'] = 'Opponent'\n",
    "game.setup(BOARD_SETUP)"
   ]
  },
  {
   "cell_type": "code",
   "execution_count": null,
   "id": "d6ce10c5-e7e9-4ae9-b56c-912ac332ab36",
   "metadata": {},
   "outputs": [],
   "source": [
    "game.board()"
   ]
  },
  {
   "cell_type": "code",
   "execution_count": null,
   "id": "9caeb789-31a8-4e2e-94a1-214908b61ff8",
   "metadata": {},
   "outputs": [],
   "source": [
    "# create function analyse board position\n",
    "info = lambda board: engine.analyse(board, limitation, multipv=MULTIPV)"
   ]
  },
  {
   "cell_type": "code",
   "execution_count": null,
   "id": "fabb6109-27e1-4918-95bd-4da4c280a606",
   "metadata": {},
   "outputs": [],
   "source": [
    "def add_variation_of(board, progress_bar):\n",
    "   \n",
    "    # get next (principal) move from board\n",
    "    for pv in info(board.board()):\n",
    "        \n",
    "        is_white_to_move = pv['score'].turn\n",
    "        pawn_to_move = pv['pv'][0]\n",
    "        # get score from white PoV\n",
    "        centipawn_score = pv['score'].white().score()\n",
    "\n",
    "        # to get minified book, only analyse position where\n",
    "        # White always play MULTIPV best move:        \n",
    "        # * now is Black turn\n",
    "        # * now is White turn with score better than -40\n",
    "        if (not is_white_to_move) or (centipawn_score > 40):\n",
    "            board.add_variation(pawn_to_move,\n",
    "                                comment=str(centipawn_score))\n",
    "    \n",
    "    # create arrows showing all added variations\n",
    "    arrows = []\n",
    "    for pv in board.variations:\n",
    "        uci_str = pv.uci()\n",
    "        arrows.append( Arrow(parse_square(uci_str[:2]),\n",
    "                             parse_square(uci_str[2:4]))\n",
    "                     )\n",
    "    board.set_arrows(arrows)\n",
    "        \n",
    "    progress_bar.update(1)"
   ]
  },
  {
   "cell_type": "code",
   "execution_count": null,
   "id": "75c30da0-ab9c-4a50-b284-79b8e56f98f0",
   "metadata": {},
   "outputs": [],
   "source": [
    "def _recursive(game, depth, progress_bar):\n",
    "    \n",
    "    # stopping condition\n",
    "    if depth<0: return\n",
    "    \n",
    "    for variation in list(game.variations):\n",
    "        add_variation_of(variation, progress_bar)\n",
    "        _recursive(variation, depth-1, progress_bar)"
   ]
  },
  {
   "cell_type": "code",
   "execution_count": null,
   "id": "217005ce-efb7-4745-a95c-6ab12dfedfa2",
   "metadata": {},
   "outputs": [],
   "source": [
    "# count maximum variation to analysed\n",
    "total_variations = (MULTIPV**(MOVE_DEPTH+1)-1) // (MULTIPV-1)\n",
    "progress_bar = tqdm(total=total_variations)\n",
    "\n",
    "# create book\n",
    "add_variation_of(game, progress_bar)\n",
    "_recursive(game, MOVE_DEPTH-1, progress_bar)"
   ]
  },
  {
   "cell_type": "code",
   "execution_count": null,
   "id": "b1826628-ab08-4013-8ae5-f22e0a5f1d6d",
   "metadata": {},
   "outputs": [],
   "source": [
    "filename = '{}-PV{}-BD{}-EN{}.pgn'.format('jobava', MULTIPV, MOVE_DEPTH, ENGINE_DEPTH)\n",
    "\n",
    "with open(filename, \"w\") as f:\n",
    "     game.accept(FileExporter(f))"
   ]
  }
 ],
 "metadata": {
  "kernelspec": {
   "display_name": "venv",
   "language": "python",
   "name": "venv"
  },
  "language_info": {
   "codemirror_mode": {
    "name": "ipython",
    "version": 3
   },
   "file_extension": ".py",
   "mimetype": "text/x-python",
   "name": "python",
   "nbconvert_exporter": "python",
   "pygments_lexer": "ipython3",
   "version": "3.8.10"
  }
 },
 "nbformat": 4,
 "nbformat_minor": 5
}
